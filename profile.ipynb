{
 "cells": [
  {
   "cell_type": "code",
   "execution_count": 37,
   "metadata": {},
   "outputs": [
    {
     "name": "stdout",
     "output_type": "stream",
     "text": [
      "Unexpected exception formatting exception. Falling back to standard exception\n"
     ]
    },
    {
     "name": "stderr",
     "output_type": "stream",
     "text": [
      "Traceback (most recent call last):\n",
      "  File \"/workspace/scrape-linkedIn/linkedin_scraper/lib/python3.12/site-packages/IPython/core/interactiveshell.py\", line 3577, in run_code\n",
      "  File \"/tmp/ipykernel_954/3077178478.py\", line 1, in <module>\n",
      "    get_ipython().system('apt install -yq chromium-chromedriver')\n",
      "  File \"/workspace/scrape-linkedIn/linkedin_scraper/lib/python3.12/site-packages/ipykernel/zmqshell.py\", line 657, in system_piped\n",
      "  File \"/workspace/scrape-linkedIn/linkedin_scraper/lib/python3.12/site-packages/IPython/utils/_process_posix.py\", line 125, in system\n",
      "ModuleNotFoundError: No module named 'pexpect'\n",
      "\n",
      "During handling of the above exception, another exception occurred:\n",
      "\n",
      "Traceback (most recent call last):\n",
      "  File \"/workspace/scrape-linkedIn/linkedin_scraper/lib/python3.12/site-packages/pygments/styles/__init__.py\", line 45, in get_style_by_name\n",
      "ModuleNotFoundError: No module named 'pygments.styles.default'\n",
      "\n",
      "During handling of the above exception, another exception occurred:\n",
      "\n",
      "Traceback (most recent call last):\n",
      "  File \"/workspace/scrape-linkedIn/linkedin_scraper/lib/python3.12/site-packages/IPython/core/interactiveshell.py\", line 2168, in showtraceback\n",
      "  File \"/workspace/scrape-linkedIn/linkedin_scraper/lib/python3.12/site-packages/IPython/core/ultratb.py\", line 1454, in structured_traceback\n",
      "  File \"/workspace/scrape-linkedIn/linkedin_scraper/lib/python3.12/site-packages/IPython/core/ultratb.py\", line 1345, in structured_traceback\n",
      "  File \"/workspace/scrape-linkedIn/linkedin_scraper/lib/python3.12/site-packages/IPython/core/ultratb.py\", line 1192, in structured_traceback\n",
      "  File \"/workspace/scrape-linkedIn/linkedin_scraper/lib/python3.12/site-packages/IPython/core/ultratb.py\", line 1082, in format_exception_as_a_whole\n",
      "  File \"/workspace/scrape-linkedIn/linkedin_scraper/lib/python3.12/site-packages/IPython/core/ultratb.py\", line 1133, in get_records\n",
      "  File \"/workspace/scrape-linkedIn/linkedin_scraper/lib/python3.12/site-packages/pygments/styles/__init__.py\", line 47, in get_style_by_name\n",
      "pygments.util.ClassNotFound: Could not find style module 'pygments.styles.default', though it should be builtin.\n"
     ]
    }
   ],
   "source": [
    "!apt install -yq chromium-chromedriver"
   ]
  },
  {
   "cell_type": "markdown",
   "metadata": {},
   "source": [
    "## 1. Importing required modules"
   ]
  },
  {
   "cell_type": "code",
   "execution_count": 29,
   "metadata": {},
   "outputs": [],
   "source": [
    "import os\n",
    "import sys\n",
    "import json\n",
    "import selenium\n",
    "from time import sleep\n",
    "\n",
    "from selenium import webdriver\n",
    "from selenium.webdriver import ActionChains\n",
    "\n",
    "from selenium.webdriver.common.by import By\n",
    "from selenium.webdriver.common.keys import Keys\n",
    "from selenium.webdriver.common.actions.action_builder import ActionBuilder\n",
    "from selenium.webdriver.common.actions.mouse_button import MouseButton\n",
    "\n",
    "from selenium.webdriver.support.ui import WebDriverWait\n",
    "from selenium.webdriver.support import expected_conditions as EC"
   ]
  },
  {
   "cell_type": "code",
   "execution_count": 30,
   "metadata": {},
   "outputs": [],
   "source": [
    "os.makedirs(\"Documents\", exist_ok = True)"
   ]
  },
  {
   "cell_type": "code",
   "execution_count": 31,
   "metadata": {},
   "outputs": [
    {
     "name": "stdout",
     "output_type": "stream",
     "text": [
      "4.21.0\n"
     ]
    }
   ],
   "source": [
    "print(selenium.__version__)"
   ]
  },
  {
   "cell_type": "markdown",
   "metadata": {},
   "source": [
    "## 2. Initial setup for the project"
   ]
  },
  {
   "cell_type": "code",
   "execution_count": 32,
   "metadata": {},
   "outputs": [],
   "source": [
    "# Configuring the options for the chromium webdriver\n",
    "\n",
    "chrome_options = webdriver.ChromeOptions()\n",
    "chrome_options.add_argument('--headless')\n",
    "chrome_options.add_argument('--no-sandbox')\n",
    "chrome_options.add_argument('--disable-dev-shm-usage')"
   ]
  },
  {
   "cell_type": "code",
   "execution_count": 33,
   "metadata": {},
   "outputs": [],
   "source": [
    "# Insert path:\n",
    "\n",
    "path = \"/usr/local/bin/chromedriver\"\n",
    "sys.path.insert(0, path)"
   ]
  },
  {
   "cell_type": "code",
   "execution_count": 34,
   "metadata": {},
   "outputs": [
    {
     "name": "stdout",
     "output_type": "stream",
     "text": [
      "Unexpected exception formatting exception. Falling back to standard exception\n"
     ]
    },
    {
     "name": "stderr",
     "output_type": "stream",
     "text": [
      "Traceback (most recent call last):\n",
      "  File \"/workspace/scrape-linkedIn/linkedin_scraper/lib/python3.12/site-packages/urllib3/connectionpool.py\", line 793, in urlopen\n",
      "    response = self._make_request(\n",
      "               ^^^^^^^^^^^^^^^^^^^\n",
      "  File \"/workspace/scrape-linkedIn/linkedin_scraper/lib/python3.12/site-packages/urllib3/connectionpool.py\", line 537, in _make_request\n",
      "    response = conn.getresponse()\n",
      "               ^^^^^^^^^^^^^^^^^^\n",
      "  File \"/workspace/scrape-linkedIn/linkedin_scraper/lib/python3.12/site-packages/urllib3/connection.py\", line 466, in getresponse\n",
      "    httplib_response = super().getresponse()\n",
      "                       ^^^^^^^^^^^^^^^^^^^^^\n",
      "  File \"/home/gitpod/.pyenv/versions/3.12.3/lib/python3.12/http/client.py\", line 1428, in getresponse\n",
      "    response.begin()\n",
      "  File \"/home/gitpod/.pyenv/versions/3.12.3/lib/python3.12/http/client.py\", line 331, in begin\n",
      "    version, status, reason = self._read_status()\n",
      "                              ^^^^^^^^^^^^^^^^^^^\n",
      "  File \"/home/gitpod/.pyenv/versions/3.12.3/lib/python3.12/http/client.py\", line 300, in _read_status\n",
      "    raise RemoteDisconnected(\"Remote end closed connection without\"\n",
      "http.client.RemoteDisconnected: Remote end closed connection without response\n",
      "\n",
      "During handling of the above exception, another exception occurred:\n",
      "\n",
      "Traceback (most recent call last):\n",
      "  File \"/workspace/scrape-linkedIn/linkedin_scraper/lib/python3.12/site-packages/IPython/core/interactiveshell.py\", line 3577, in run_code\n",
      "  File \"/tmp/ipykernel_954/1709754903.py\", line 3, in <module>\n",
      "    driver = webdriver.Chrome(options = chrome_options)\n",
      "             ^^^^^^^^^^^^^^^^^^^^^^^^^^^^^^^^^^^^^^^^^^\n",
      "  File \"/workspace/scrape-linkedIn/linkedin_scraper/lib/python3.12/site-packages/selenium/webdriver/chrome/webdriver.py\", line 45, in __init__\n",
      "    super().__init__(\n",
      "  File \"/workspace/scrape-linkedIn/linkedin_scraper/lib/python3.12/site-packages/selenium/webdriver/chromium/webdriver.py\", line 66, in __init__\n",
      "    super().__init__(command_executor=executor, options=options)\n",
      "  File \"/workspace/scrape-linkedIn/linkedin_scraper/lib/python3.12/site-packages/selenium/webdriver/remote/webdriver.py\", line 208, in __init__\n",
      "    self.start_session(capabilities)\n",
      "  File \"/workspace/scrape-linkedIn/linkedin_scraper/lib/python3.12/site-packages/selenium/webdriver/remote/webdriver.py\", line 292, in start_session\n",
      "    response = self.execute(Command.NEW_SESSION, caps)[\"value\"]\n",
      "               ^^^^^^^^^^^^^^^^^^^^^^^^^^^^^^^^^^^^^^^\n",
      "  File \"/workspace/scrape-linkedIn/linkedin_scraper/lib/python3.12/site-packages/selenium/webdriver/remote/webdriver.py\", line 345, in execute\n",
      "    response = self.command_executor.execute(driver_command, params)\n",
      "               ^^^^^^^^^^^^^^^^^^^^^^^^^^^^^^^^^^^^^^^^^^^^^^^^^^^^^\n",
      "  File \"/workspace/scrape-linkedIn/linkedin_scraper/lib/python3.12/site-packages/selenium/webdriver/remote/remote_connection.py\", line 302, in execute\n",
      "    return self._request(command_info[0], url, body=data)\n",
      "           ^^^^^^^^^^^^^^^^^^^^^^^^^^^^^^^^^^^^^^^^^^^^^^\n",
      "  File \"/workspace/scrape-linkedIn/linkedin_scraper/lib/python3.12/site-packages/selenium/webdriver/remote/remote_connection.py\", line 322, in _request\n",
      "    response = self._conn.request(method, url, body=body, headers=headers)\n",
      "               ^^^^^^^^^^^^^^^^^^^^^^^^^^^^^^^^^^^^^^^^^^^^^^^^^^^^^^^^^^^\n",
      "  File \"/workspace/scrape-linkedIn/linkedin_scraper/lib/python3.12/site-packages/urllib3/_request_methods.py\", line 144, in request\n",
      "    return self.request_encode_body(\n",
      "           ^^^^^^^^^^^^^^^^^^^^^^^^^\n",
      "  File \"/workspace/scrape-linkedIn/linkedin_scraper/lib/python3.12/site-packages/urllib3/_request_methods.py\", line 279, in request_encode_body\n",
      "    return self.urlopen(method, url, **extra_kw)\n",
      "           ^^^^^^^^^^^^^^^^^^^^^^^^^^^^^^^^^^^^^\n",
      "  File \"/workspace/scrape-linkedIn/linkedin_scraper/lib/python3.12/site-packages/urllib3/poolmanager.py\", line 444, in urlopen\n",
      "    response = conn.urlopen(method, u.request_uri, **kw)\n",
      "               ^^^^^^^^^^^^^^^^^^^^^^^^^^^^^^^^^^^^^^^^^\n",
      "  File \"/workspace/scrape-linkedIn/linkedin_scraper/lib/python3.12/site-packages/urllib3/connectionpool.py\", line 847, in urlopen\n",
      "    retries = retries.increment(\n",
      "              ^^^^^^^^^^^^^^^^^^\n",
      "  File \"/workspace/scrape-linkedIn/linkedin_scraper/lib/python3.12/site-packages/urllib3/util/retry.py\", line 470, in increment\n",
      "    raise reraise(type(error), error, _stacktrace)\n",
      "          ^^^^^^^^^^^^^^^^^^^^^^^^^^^^^^^^^^^^^^^^\n",
      "  File \"/workspace/scrape-linkedIn/linkedin_scraper/lib/python3.12/site-packages/urllib3/util/util.py\", line 38, in reraise\n",
      "    raise value.with_traceback(tb)\n",
      "  File \"/workspace/scrape-linkedIn/linkedin_scraper/lib/python3.12/site-packages/urllib3/connectionpool.py\", line 793, in urlopen\n",
      "    response = self._make_request(\n",
      "               ^^^^^^^^^^^^^^^^^^^\n",
      "  File \"/workspace/scrape-linkedIn/linkedin_scraper/lib/python3.12/site-packages/urllib3/connectionpool.py\", line 537, in _make_request\n",
      "    response = conn.getresponse()\n",
      "               ^^^^^^^^^^^^^^^^^^\n",
      "  File \"/workspace/scrape-linkedIn/linkedin_scraper/lib/python3.12/site-packages/urllib3/connection.py\", line 466, in getresponse\n",
      "    httplib_response = super().getresponse()\n",
      "                       ^^^^^^^^^^^^^^^^^^^^^\n",
      "  File \"/home/gitpod/.pyenv/versions/3.12.3/lib/python3.12/http/client.py\", line 1428, in getresponse\n",
      "    response.begin()\n",
      "  File \"/home/gitpod/.pyenv/versions/3.12.3/lib/python3.12/http/client.py\", line 331, in begin\n",
      "    version, status, reason = self._read_status()\n",
      "                              ^^^^^^^^^^^^^^^^^^^\n",
      "  File \"/home/gitpod/.pyenv/versions/3.12.3/lib/python3.12/http/client.py\", line 300, in _read_status\n",
      "    raise RemoteDisconnected(\"Remote end closed connection without\"\n",
      "urllib3.exceptions.ProtocolError: ('Connection aborted.', RemoteDisconnected('Remote end closed connection without response'))\n",
      "\n",
      "During handling of the above exception, another exception occurred:\n",
      "\n",
      "Traceback (most recent call last):\n",
      "  File \"/workspace/scrape-linkedIn/linkedin_scraper/lib/python3.12/site-packages/pygments/styles/__init__.py\", line 45, in get_style_by_name\n",
      "ModuleNotFoundError: No module named 'pygments.styles.default'\n",
      "\n",
      "During handling of the above exception, another exception occurred:\n",
      "\n",
      "Traceback (most recent call last):\n",
      "  File \"/workspace/scrape-linkedIn/linkedin_scraper/lib/python3.12/site-packages/IPython/core/interactiveshell.py\", line 2168, in showtraceback\n",
      "  File \"/workspace/scrape-linkedIn/linkedin_scraper/lib/python3.12/site-packages/IPython/core/ultratb.py\", line 1454, in structured_traceback\n",
      "  File \"/workspace/scrape-linkedIn/linkedin_scraper/lib/python3.12/site-packages/IPython/core/ultratb.py\", line 1345, in structured_traceback\n",
      "  File \"/workspace/scrape-linkedIn/linkedin_scraper/lib/python3.12/site-packages/IPython/core/ultratb.py\", line 1192, in structured_traceback\n",
      "  File \"/workspace/scrape-linkedIn/linkedin_scraper/lib/python3.12/site-packages/IPython/core/ultratb.py\", line 1082, in format_exception_as_a_whole\n",
      "  File \"/workspace/scrape-linkedIn/linkedin_scraper/lib/python3.12/site-packages/IPython/core/ultratb.py\", line 1133, in get_records\n",
      "  File \"/workspace/scrape-linkedIn/linkedin_scraper/lib/python3.12/site-packages/pygments/styles/__init__.py\", line 47, in get_style_by_name\n",
      "pygments.util.ClassNotFound: Could not find style module 'pygments.styles.default', though it should be builtin.\n"
     ]
    }
   ],
   "source": [
    "# Getting the webdriver\n",
    "\n",
    "driver = webdriver.Chrome(options = chrome_options)"
   ]
  },
  {
   "cell_type": "code",
   "execution_count": 25,
   "metadata": {},
   "outputs": [
    {
     "name": "stdout",
     "output_type": "stream",
     "text": [
      "Unexpected exception formatting exception. Falling back to standard exception\n"
     ]
    },
    {
     "name": "stderr",
     "output_type": "stream",
     "text": [
      "Traceback (most recent call last):\n",
      "  File \"/workspace/scrape-linkedIn/linkedin_scraper/lib/python3.12/site-packages/IPython/core/interactiveshell.py\", line 3577, in run_code\n",
      "  File \"/tmp/ipykernel_954/59287774.py\", line 6, in <module>\n",
      "    driver.get(\"https://www.linkedin.com/login\")\n",
      "    ^^^^^^\n",
      "NameError: name 'driver' is not defined\n",
      "\n",
      "During handling of the above exception, another exception occurred:\n",
      "\n",
      "Traceback (most recent call last):\n",
      "  File \"/workspace/scrape-linkedIn/linkedin_scraper/lib/python3.12/site-packages/pygments/styles/__init__.py\", line 45, in get_style_by_name\n",
      "ModuleNotFoundError: No module named 'pygments.styles.default'\n",
      "\n",
      "During handling of the above exception, another exception occurred:\n",
      "\n",
      "Traceback (most recent call last):\n",
      "  File \"/workspace/scrape-linkedIn/linkedin_scraper/lib/python3.12/site-packages/IPython/core/interactiveshell.py\", line 2168, in showtraceback\n",
      "  File \"/workspace/scrape-linkedIn/linkedin_scraper/lib/python3.12/site-packages/IPython/core/ultratb.py\", line 1454, in structured_traceback\n",
      "  File \"/workspace/scrape-linkedIn/linkedin_scraper/lib/python3.12/site-packages/IPython/core/ultratb.py\", line 1345, in structured_traceback\n",
      "  File \"/workspace/scrape-linkedIn/linkedin_scraper/lib/python3.12/site-packages/IPython/core/ultratb.py\", line 1192, in structured_traceback\n",
      "  File \"/workspace/scrape-linkedIn/linkedin_scraper/lib/python3.12/site-packages/IPython/core/ultratb.py\", line 1082, in format_exception_as_a_whole\n",
      "  File \"/workspace/scrape-linkedIn/linkedin_scraper/lib/python3.12/site-packages/IPython/core/ultratb.py\", line 1133, in get_records\n",
      "  File \"/workspace/scrape-linkedIn/linkedin_scraper/lib/python3.12/site-packages/pygments/styles/__init__.py\", line 47, in get_style_by_name\n",
      "pygments.util.ClassNotFound: Could not find style module 'pygments.styles.default', though it should be builtin.\n"
     ]
    }
   ],
   "source": [
    "# Logging into Linkedin Account using the cookie value\n",
    "\n",
    "\n",
    "cookie_val = input(\"Please enter the cookie value: \")\n",
    "\n",
    "driver.get(\"https://www.linkedin.com/login\")\n",
    "login_cookie = {\n",
    "    \"name\" : \"li_at\",\n",
    "    \"value\" : cookie_val,\n",
    "    \"domain\" : \".linkedin.com\",\n",
    "    \"path\" : \"/\",\n",
    "    \"secure\" : True\n",
    "}\n",
    "    \n",
    "driver.add_cookie(login_cookie)\n",
    "driver.refresh()"
   ]
  },
  {
   "cell_type": "code",
   "execution_count": 9,
   "metadata": {},
   "outputs": [],
   "source": [
    "# Example profiles to be scraped\n",
    "\n",
    "manoj_url = \"https://www.linkedin.com/in/mkpentapalli/\""
   ]
  },
  {
   "cell_type": "markdown",
   "metadata": {},
   "source": [
    "## 3. Required functions"
   ]
  },
  {
   "cell_type": "markdown",
   "metadata": {},
   "source": [
    "### 3.1 Functions for generic elements"
   ]
  },
  {
   "cell_type": "code",
   "execution_count": 10,
   "metadata": {},
   "outputs": [],
   "source": [
    "# Type of element taken:\n",
    "\n",
    "element_type_dict = {\n",
    "    0 : \"CSS_SELECTOR\",\n",
    "    1 : \"CLASS_NAME\",\n",
    "    2 : \"ID\",\n",
    "    3 : \"TAG_NAME\",\n",
    "    4 : \"XPATH\"\n",
    "}"
   ]
  },
  {
   "cell_type": "code",
   "execution_count": 11,
   "metadata": {},
   "outputs": [],
   "source": [
    "# getting the child element from the parent element\n",
    "\n",
    "def get_element(parent_element=None, child_element_name=\"\", element_type=1, wait_time=8):\n",
    "    try:\n",
    "        by_attr = getattr(By, element_type_dict[element_type])\n",
    "        child_element = WebDriverWait(parent_element, wait_time).until(EC.presence_of_element_located((by_attr, child_element_name)))\n",
    "        return child_element\n",
    "    except Exception as e:\n",
    "        print(f\"{type(e).__name__} occurred for the child element name {child_element_name}.\")\n",
    "        print(e)\n",
    "        pass"
   ]
  },
  {
   "cell_type": "code",
   "execution_count": 12,
   "metadata": {},
   "outputs": [],
   "source": [
    "# getting the child elements from the parent element\n",
    "\n",
    "def get_elements(parent_element=None, child_elements_name=\"\", element_type=1, wait_time=8):\n",
    "    try:\n",
    "        by_attr = getattr(By, element_type_dict[element_type])\n",
    "        child_elements = WebDriverWait(parent_element, wait_time).until(EC.presence_of_all_elements_located((by_attr, child_elements_name)))\n",
    "        return child_elements\n",
    "    except Exception as e:\n",
    "        print(f\"{type(e).__name__} occurred for the child element name {child_elements_name}.\")\n",
    "        print(e)\n",
    "        pass"
   ]
  },
  {
   "cell_type": "code",
   "execution_count": 13,
   "metadata": {},
   "outputs": [],
   "source": [
    "# getting elements from a list of parent elements\n",
    "\n",
    "def get_elements_from_list(parent_list=[], child_element=\"\", element_type=1, wait_time = 3):\n",
    "    element_list = []\n",
    "    for element in parent_list:\n",
    "        element_list_temp = get_elements(element, child_element, element_type)\n",
    "        content = \"\"\n",
    "        for temp_element in element_list_temp:\n",
    "            content += temp_element.text + \"\\n\"\n",
    "        element_list.append(content)\n",
    "\n",
    "    return element_list"
   ]
  },
  {
   "cell_type": "markdown",
   "metadata": {},
   "source": [
    "### 3.2 Functions for specific elements:"
   ]
  },
  {
   "cell_type": "code",
   "execution_count": 14,
   "metadata": {},
   "outputs": [],
   "source": [
    "# Name\n",
    "\n",
    "def get_name(parent_element = None) -> str:\n",
    "    name = None\n",
    "    if parent_element:\n",
    "        name_elem = get_element(parent_element, \"h1\", 3)\n",
    "        name = name_elem.text if name_elem else None\n",
    "    return name"
   ]
  },
  {
   "cell_type": "code",
   "execution_count": 15,
   "metadata": {},
   "outputs": [],
   "source": [
    "# Pronouns\n",
    "\n",
    "def get_pronouns(parent_element = None) -> str:\n",
    "    pronouns = None\n",
    "    if parent_element:\n",
    "        pronouns_elem = get_element(parent_element, \".text-body-small.v-align-middle.break-words.t-black--light\", 0)\n",
    "        pronouns = pronouns_elem.text if pronouns_elem else None\n",
    "    return pronouns"
   ]
  },
  {
   "cell_type": "code",
   "execution_count": 16,
   "metadata": {},
   "outputs": [],
   "source": [
    "# Location\n",
    "\n",
    "def get_location(parent_element = None) -> str:\n",
    "    location = None\n",
    "    if parent_element:\n",
    "        location_elem = get_element(parent_element, \".text-body-small.inline.t-black--light.break-words\", 0)\n",
    "        location = location_elem.text if location_elem else None\n",
    "    return location"
   ]
  },
  {
   "cell_type": "code",
   "execution_count": 17,
   "metadata": {},
   "outputs": [],
   "source": [
    "# Intro\n",
    "\n",
    "def get_intro(parent_element = None) -> str:\n",
    "    intro = None\n",
    "    if parent_element:\n",
    "        intro_elem = get_element(parent_element, \".text-body-medium.break-words\", 0)\n",
    "        intro = intro_elem.text if intro_elem else None\n",
    "    return intro"
   ]
  },
  {
   "cell_type": "code",
   "execution_count": 18,
   "metadata": {},
   "outputs": [],
   "source": [
    "# Work Preference\n",
    "\n",
    "def get_work_preference(parent_element = None) -> str:\n",
    "    photo_element = get_element(parent_element, \"pv-top-card--photo-resize\", 1)\n",
    "    img_element = get_element(photo_element, \"img\", 3)\n",
    "    work_preference = img_element.get_attribute(\"alt\") if img_element else \"\"\n",
    "    work_preference_text = None\n",
    "    if(\"#OPEN_TO_WORK\" in work_preference):\n",
    "        work_preference_text = \"Open to Work\"\n",
    "    elif(\"#HIRING\" in work_preference):\n",
    "        work_preference_text = \"Hiring\"\n",
    "    return work_preference_text"
   ]
  },
  {
   "cell_type": "code",
   "execution_count": 19,
   "metadata": {},
   "outputs": [],
   "source": [
    "# Job Preferences\n",
    "\n",
    "def get_job_details(parent_element = None) -> dict:\n",
    "    job_pref_dict = dict()\n",
    "    if parent_element:\n",
    "        li_elements = get_elements(parent_element, \"li\", 3)\n",
    "        if li_elements:\n",
    "            for li_element in li_elements:\n",
    "                index_elem = get_element(li_element, \".t-14.t-bold.mb2\", 0)\n",
    "                if index_elem:\n",
    "                    index = index_elem.text\n",
    "                    value_elem = get_element(li_element, \".po-job-opportunities-view-preference__answer-section.t-14\", 0)\n",
    "                    if value_elem:\n",
    "                        values = value_elem.text.split('·')\n",
    "                        values = [x.strip() for x in values]\n",
    "                        job_pref_dict[index] = values\n",
    "    return job_pref_dict"
   ]
  },
  {
   "cell_type": "code",
   "execution_count": 20,
   "metadata": {},
   "outputs": [],
   "source": [
    "# Contact details\n",
    "\n",
    "def get_contact_details(parent_element = None):\n",
    "    contact_details = dict()\n",
    "    if parent_element:\n",
    "        contact_elements = get_elements(parent_element, \"section\", 3)\n",
    "        if contact_elements:\n",
    "            for contact_element in contact_elements:\n",
    "                index_element = get_element(contact_element, \"h3\", 3)\n",
    "                if index_element:\n",
    "                    index = index_element.text\n",
    "                    if \"Websites\" in index or \"IM\" in index or \"Phone\" in index:\n",
    "                        if \"IM\" in index:\n",
    "                            index = \"Instant Messaging\"\n",
    "                        contact_details[index] = dict()\n",
    "                        if \"Websites\" in index:\n",
    "                            list_websites = get_elements(contact_element, \"li\", 3)\n",
    "                            if list_websites:\n",
    "                                for website_element in list_websites:\n",
    "                                    website_url = get_element(website_element, \"a\", 3).text\n",
    "                                    website_type = get_element(website_element, \"span\", 3).text.lstrip('(').rstrip(')')\n",
    "                                    contact_details[index][website_type] = website_url\n",
    "                        else:\n",
    "                            elements_list = get_elements(contact_element, \"li\", 3)\n",
    "                            if elements_list:\n",
    "                                for element in elements_list:\n",
    "                                    single_row = get_elements(element, \"span\", 3)\n",
    "                                    row_value = single_row[0].text\n",
    "                                    row_index = single_row[1].text.lstrip('(').rstrip(')')\n",
    "                                    contact_details[index][row_index] = row_value\n",
    "                    else:\n",
    "                        value_element = get_element(contact_element, \"div\", 3)\n",
    "                        value = value_element.text if value_element else None\n",
    "                        if \"Your Profile\" in index:\n",
    "                            index = \"Linkedin_Profile_URL\"\n",
    "                        contact_details[index] = value\n",
    "    return contact_details"
   ]
  },
  {
   "cell_type": "code",
   "execution_count": 21,
   "metadata": {},
   "outputs": [],
   "source": [
    "# About section\n",
    "\n",
    "def get_about(parent_element = None) -> str:\n",
    "    about = None\n",
    "    if parent_element:\n",
    "        about_element = get_element(parent_element, \".display-flex.ph5.pv3\", 0)\n",
    "        about_element_span = get_element(about_element, \"span\", 3)\n",
    "        about = about_element_span.text if about_element_span else \"\"\n",
    "    return about"
   ]
  },
  {
   "cell_type": "markdown",
   "metadata": {},
   "source": [
    "### 3.2 Caller function"
   ]
  },
  {
   "cell_type": "code",
   "execution_count": 22,
   "metadata": {},
   "outputs": [],
   "source": [
    "def getPersonalDetails(driver = None, profile_url = \"\") -> str:\n",
    "    name = None\n",
    "    location = None\n",
    "    intro = None\n",
    "    work_preference = None\n",
    "    contact = None\n",
    "    about = None\n",
    "    experiences = None\n",
    "    education = None\n",
    "    pronouns = None\n",
    "    personal_details = dict()\n",
    "    details = \"\"\n",
    "\n",
    "\n",
    "    driver.get(profile_url)\n",
    "\n",
    "\n",
    "\n",
    "    # Scraping for profile details:\n",
    "\n",
    "    top_card = get_element(driver, \"scaffold-layout__main\")\n",
    "    top_panel = get_element(top_card, \".mt2.relative\", 0)\n",
    "\n",
    "\n",
    "\n",
    "    # Name:\n",
    "    name = get_name(top_panel)\n",
    "    personal_details[\"Name\"] = name\n",
    "\n",
    "\n",
    "\n",
    "    # Pronouns:\n",
    "    pronouns = get_pronouns(top_panel)\n",
    "    personal_details[\"Pronouns\"] = pronouns\n",
    "\n",
    "\n",
    "\n",
    "    # headline:\n",
    "    intro = get_intro(top_panel)\n",
    "    personal_details[\"Headline\"] = intro\n",
    "\n",
    "\n",
    "\n",
    "    # Location:\n",
    "    location = get_location(top_panel)\n",
    "    personal_details[\"Location\"] = location\n",
    "\n",
    "\n",
    "\n",
    "    # Work Preference:\n",
    "    work_preference = get_work_preference(top_card)\n",
    "    personal_details[\"Work_Preference\"] = work_preference\n",
    "\n",
    "\n",
    "\n",
    "    # If open to work:\n",
    "    personal_details[\"Job_Preferences\"] = None\n",
    "    if personal_details[\"Work_Preference\"] == \"Open to Work\":\n",
    "        carousel = None\n",
    "        if top_card:\n",
    "            carousel = get_element(top_card, \"pv-open-to-carousel\", 1)\n",
    "            if carousel:\n",
    "                clickable_carousel = get_element(carousel, \"a\", 3)\n",
    "                ActionChains(driver).click(clickable_carousel).perform()\n",
    "                sleep(3)\n",
    "                main_job_pref_card = get_element(driver,\".artdeco-modal__content.ember-view.relative\", 0)\n",
    "                main_job_pref_list = get_element(main_job_pref_card,\".list-style-none.mv2.ml5\", 0)\n",
    "                main_job_pref_dict = get_job_details(main_job_pref_list)\n",
    "        personal_details[\"Job_Preferences\"] = main_job_pref_dict\n",
    "\n",
    "\n",
    "\n",
    "    # Go Back to profile\n",
    "    driver.get(profile_url)\n",
    "    top_panel = get_element(driver, \".mt2.relative\", 0)\n",
    "\n",
    "\n",
    "    # Contact:\n",
    "    personal_details[\"Contact_Details\"] = None\n",
    "    if top_panel:\n",
    "        profile_button_element = get_element(top_panel, \"top-card-text-details-contact-info\", 2)\n",
    "        if profile_button_element:\n",
    "            ActionChains(driver).click(profile_button_element).perform()\n",
    "            sleep(3)\n",
    "            contact_card_element = get_element(driver, \".pv-profile-section__section-info.section-info\", 0)\n",
    "            if contact_card_element:\n",
    "                contact_dict = get_contact_details(contact_card_element)\n",
    "                personal_details[\"Contact_Details\"] = contact_dict\n",
    "\n",
    "\n",
    "    # Go Back to profile\n",
    "    driver.get(profile_url)\n",
    "    top_panel = get_element(driver, \".mt2.relative\", 0)\n",
    "\n",
    "\n",
    "    # About:\n",
    "    driver.get(profile_url)\n",
    "    top_card = get_element(driver, \"scaffold-layout__main\", 1)\n",
    "    about = get_about(top_card)\n",
    "    if about:\n",
    "        personal_details[\"About\"] = about\n",
    "\n",
    "\n",
    "    # # # Experiences:\n",
    "    # experiences_url = profile_url + \"details/experience/\"\n",
    "    # driver.get(experiences_url)\n",
    "    # experiences_top_card = get_element(driver, \"scaffold-layout__main\",1)\n",
    "    # experiences_dict = dict()\n",
    "    # experiences_list = get_elements(experiences_top_card, \".pvs-list__paged-list-item.artdeco-list__item.pvs-list__item--line-separated.pvs-list__item--one-column\", 0)\n",
    "    # for index in range(len(experiences_list)):\n",
    "    #     # Finding if same company has multiple roles or not:\n",
    "    #     multiples_roles_card = \n",
    "\n",
    "    # experiences = get_elements_from_list(experiences_list_card,\"visually-hidden\")\n",
    "    # if experiences:\n",
    "    #     personal_details[\"Experience\"] = \"\"\n",
    "    #     for item in experiences:\n",
    "    #         personal_details[\"Experience\"] += item\n",
    "\n",
    "    # # Education:\n",
    "    # education_url = profile_url + \"details/education/\"\n",
    "    # driver.get(education_url)\n",
    "    # education_top_card = get_element(driver, \"scaffold-layout__main\")\n",
    "    # education_list_card = get_elements(education_top_card,\".pvs-list__paged-list-item.artdeco-list__item.pvs-list__item--line-separated.pvs-list__item--one-column\",0)\n",
    "    # education = get_elements_from_list(education_list_card,\"visually-hidden\",1)\n",
    "    # if education:\n",
    "    #     personal_details[\"Education\"] = \"\"\n",
    "    #     for item in education:\n",
    "    #         personal_details[\"Education\"] += item\n",
    "\n",
    "    for key in personal_details.keys():\n",
    "        # print(key, \"\\n\\n\\n\", personal_details[key])\n",
    "        details += f\"{key}:\\n\\n{personal_details[key]}\\n\\n\\n\"\n",
    "\n",
    "    return details"
   ]
  },
  {
   "cell_type": "code",
   "execution_count": 23,
   "metadata": {},
   "outputs": [],
   "source": [
    "names = []\n",
    "urls = []\n",
    "\n",
    "# Example urls and names:\n",
    "\n",
    "names = [\"Manoj\"]\n",
    "urls = [\"https://www.linkedin.com/in/mkpentapalli/\"]\n"
   ]
  },
  {
   "cell_type": "code",
   "execution_count": 24,
   "metadata": {},
   "outputs": [
    {
     "name": "stdout",
     "output_type": "stream",
     "text": [
      "Unexpected exception formatting exception. Falling back to standard exception\n"
     ]
    },
    {
     "name": "stderr",
     "output_type": "stream",
     "text": [
      "Traceback (most recent call last):\n",
      "  File \"/workspace/scrape-linkedIn/linkedin_scraper/lib/python3.12/site-packages/IPython/core/interactiveshell.py\", line 3577, in run_code\n",
      "  File \"/tmp/ipykernel_954/3404691917.py\", line 2, in <module>\n",
      "    personal_details = getPersonalDetails(driver,urls[i])\n",
      "                                          ^^^^^^\n",
      "NameError: name 'driver' is not defined\n",
      "\n",
      "During handling of the above exception, another exception occurred:\n",
      "\n",
      "Traceback (most recent call last):\n",
      "  File \"/workspace/scrape-linkedIn/linkedin_scraper/lib/python3.12/site-packages/pygments/styles/__init__.py\", line 45, in get_style_by_name\n",
      "ModuleNotFoundError: No module named 'pygments.styles.default'\n",
      "\n",
      "During handling of the above exception, another exception occurred:\n",
      "\n",
      "Traceback (most recent call last):\n",
      "  File \"/workspace/scrape-linkedIn/linkedin_scraper/lib/python3.12/site-packages/IPython/core/interactiveshell.py\", line 2168, in showtraceback\n",
      "  File \"/workspace/scrape-linkedIn/linkedin_scraper/lib/python3.12/site-packages/IPython/core/ultratb.py\", line 1454, in structured_traceback\n",
      "  File \"/workspace/scrape-linkedIn/linkedin_scraper/lib/python3.12/site-packages/IPython/core/ultratb.py\", line 1345, in structured_traceback\n",
      "  File \"/workspace/scrape-linkedIn/linkedin_scraper/lib/python3.12/site-packages/IPython/core/ultratb.py\", line 1192, in structured_traceback\n",
      "  File \"/workspace/scrape-linkedIn/linkedin_scraper/lib/python3.12/site-packages/IPython/core/ultratb.py\", line 1082, in format_exception_as_a_whole\n",
      "  File \"/workspace/scrape-linkedIn/linkedin_scraper/lib/python3.12/site-packages/IPython/core/ultratb.py\", line 1133, in get_records\n",
      "  File \"/workspace/scrape-linkedIn/linkedin_scraper/lib/python3.12/site-packages/pygments/styles/__init__.py\", line 47, in get_style_by_name\n",
      "pygments.util.ClassNotFound: Could not find style module 'pygments.styles.default', though it should be builtin.\n"
     ]
    }
   ],
   "source": [
    "for i in range(len(urls)):\n",
    "    personal_details = getPersonalDetails(driver, urls[i])\n",
    "    json_str = json.dumps(personal_details, indent = 4)\n",
    "    with open(f\"Documents/{names[i]}.json\",\"w\") as f:\n",
    "        f.write(json_str)"
   ]
  },
  {
   "cell_type": "code",
   "execution_count": 21,
   "metadata": {},
   "outputs": [],
   "source": [
    "driver.quit()"
   ]
  },
  {
   "cell_type": "code",
   "execution_count": null,
   "metadata": {},
   "outputs": [],
   "source": []
  }
 ],
 "metadata": {
  "kernelspec": {
   "display_name": "LI_SCRAPER",
   "language": "python",
   "name": "python3"
  },
  "language_info": {
   "codemirror_mode": {
    "name": "ipython",
    "version": 3
   },
   "file_extension": ".py",
   "mimetype": "text/x-python",
   "name": "python",
   "nbconvert_exporter": "python",
   "pygments_lexer": "ipython3",
   "version": "3.11.6"
  }
 },
 "nbformat": 4,
 "nbformat_minor": 2
}
